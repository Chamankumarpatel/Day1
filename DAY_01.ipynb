{
  "nbformat": 4,
  "nbformat_minor": 0,
  "metadata": {
    "colab": {
      "provenance": [],
      "authorship_tag": "ABX9TyNQnWOQsOj7xWrQ7VBkv/49",
      "include_colab_link": true
    },
    "kernelspec": {
      "name": "python3",
      "display_name": "Python 3"
    },
    "language_info": {
      "name": "python"
    }
  },
  "cells": [
    {
      "cell_type": "markdown",
      "metadata": {
        "id": "view-in-github",
        "colab_type": "text"
      },
      "source": [
        "<a href=\"https://colab.research.google.com/github/Chamankumarpatel/Day1/blob/main/DAY_01.ipynb\" target=\"_parent\"><img src=\"https://colab.research.google.com/assets/colab-badge.svg\" alt=\"Open In Colab\"/></a>"
      ]
    },
    {
      "cell_type": "code",
      "execution_count": 12,
      "metadata": {
        "colab": {
          "base_uri": "https://localhost:8080/"
        },
        "id": "TMzM41bs7NQs",
        "outputId": "3c4c43ca-952b-4e2a-a613-9e0c5618d109"
      },
      "outputs": [
        {
          "output_type": "stream",
          "name": "stdout",
          "text": [
            "Hello World!\n"
          ]
        }
      ],
      "source": [
        "print (\"Hello World!\")"
      ]
    },
    {
      "cell_type": "code",
      "source": [
        "a,b =1,5"
      ],
      "metadata": {
        "id": "LIGcgbfoHOR6"
      },
      "execution_count": 11,
      "outputs": []
    },
    {
      "cell_type": "code",
      "source": [
        "c=a+b"
      ],
      "metadata": {
        "id": "XcwPO5qPHU7F"
      },
      "execution_count": 13,
      "outputs": []
    },
    {
      "cell_type": "code",
      "source": [
        "c"
      ],
      "metadata": {
        "colab": {
          "base_uri": "https://localhost:8080/"
        },
        "id": "LAUpn44gHlUg",
        "outputId": "9cde8849-bf41-4282-fd9f-1df49fec1f9f"
      },
      "execution_count": 14,
      "outputs": [
        {
          "output_type": "execute_result",
          "data": {
            "text/plain": [
              "6"
            ]
          },
          "metadata": {},
          "execution_count": 14
        }
      ]
    },
    {
      "cell_type": "code",
      "source": [
        "ticket_price =90\n",
        "wallet_size =100"
      ],
      "metadata": {
        "id": "7wjph-O3Hpn8"
      },
      "execution_count": 15,
      "outputs": []
    },
    {
      "cell_type": "code",
      "source": [
        "if ticket_price <= wallet_size:\n",
        "  print(\"Hurray, i can go to this movie!\")\n",
        "else:\n",
        "  print(\"Sad, i don't have enough purse\")"
      ],
      "metadata": {
        "colab": {
          "base_uri": "https://localhost:8080/"
        },
        "id": "buaEbA-SIRrt",
        "outputId": "db8c1ac0-145a-4eb6-dd5f-d39c3f2beef9"
      },
      "execution_count": 16,
      "outputs": [
        {
          "output_type": "stream",
          "name": "stdout",
          "text": [
            "Hurray, i can go to this movie!\n"
          ]
        }
      ]
    },
    {
      "cell_type": "code",
      "source": [
        "marks =98\n",
        "if (marks >=90):\n",
        "    print(\"A+\")\n",
        "elif (marks >=80):\n",
        "  print(\"A\")\n",
        "elif (marks >=70):\n",
        "  print(\"B+\")\n",
        "elif (marks >=60):\n",
        "  print(\"B\")\n",
        "else:\n",
        "  print(\"Fail\")"
      ],
      "metadata": {
        "colab": {
          "base_uri": "https://localhost:8080/"
        },
        "id": "XDzTeMmhJZg4",
        "outputId": "daa65ca3-659d-489f-a477-aa4d4b000679"
      },
      "execution_count": 18,
      "outputs": [
        {
          "output_type": "stream",
          "name": "stdout",
          "text": [
            "A+\n"
          ]
        }
      ]
    },
    {
      "cell_type": "code",
      "source": [
        "for i in range(1,11):\n",
        "  print(i)\n",
        ""
      ],
      "metadata": {
        "colab": {
          "base_uri": "https://localhost:8080/"
        },
        "id": "HE9a-2ELgve6",
        "outputId": "e3fe002b-31f1-41d2-c1b5-a87e4c989362"
      },
      "execution_count": 1,
      "outputs": [
        {
          "output_type": "stream",
          "name": "stdout",
          "text": [
            "1\n",
            "2\n",
            "3\n",
            "4\n",
            "5\n",
            "6\n",
            "7\n",
            "8\n",
            "9\n",
            "10\n"
          ]
        }
      ]
    },
    {
      "cell_type": "code",
      "source": [
        "for i in range(51):\n",
        "  if (i%10)==0:\n",
        "    print(\"divisible: \",i)\n",
        "  else:\n",
        "   print(\"not divisible: \",i)"
      ],
      "metadata": {
        "colab": {
          "base_uri": "https://localhost:8080/"
        },
        "id": "mcwUGQqliGSa",
        "outputId": "1b319511-d221-4a23-f198-82e4f49548b7"
      },
      "execution_count": 3,
      "outputs": [
        {
          "output_type": "stream",
          "name": "stdout",
          "text": [
            "divisible:  0\n",
            "not divisible:  1\n",
            "not divisible:  2\n",
            "not divisible:  3\n",
            "not divisible:  4\n",
            "not divisible:  5\n",
            "not divisible:  6\n",
            "not divisible:  7\n",
            "not divisible:  8\n",
            "not divisible:  9\n",
            "divisible:  10\n",
            "not divisible:  11\n",
            "not divisible:  12\n",
            "not divisible:  13\n",
            "not divisible:  14\n",
            "not divisible:  15\n",
            "not divisible:  16\n",
            "not divisible:  17\n",
            "not divisible:  18\n",
            "not divisible:  19\n",
            "divisible:  20\n",
            "not divisible:  21\n",
            "not divisible:  22\n",
            "not divisible:  23\n",
            "not divisible:  24\n",
            "not divisible:  25\n",
            "not divisible:  26\n",
            "not divisible:  27\n",
            "not divisible:  28\n",
            "not divisible:  29\n",
            "divisible:  30\n",
            "not divisible:  31\n",
            "not divisible:  32\n",
            "not divisible:  33\n",
            "not divisible:  34\n",
            "not divisible:  35\n",
            "not divisible:  36\n",
            "not divisible:  37\n",
            "not divisible:  38\n",
            "not divisible:  39\n",
            "divisible:  40\n",
            "not divisible:  41\n",
            "not divisible:  42\n",
            "not divisible:  43\n",
            "not divisible:  44\n",
            "not divisible:  45\n",
            "not divisible:  46\n",
            "not divisible:  47\n",
            "not divisible:  48\n",
            "not divisible:  49\n",
            "divisible:  50\n"
          ]
        }
      ]
    },
    {
      "cell_type": "code",
      "source": [
        "items =[\"mic\" , \"lamp\" , \"mobile\" , \"speaker\"]"
      ],
      "metadata": {
        "id": "tsWQEKsLjuyP"
      },
      "execution_count": 7,
      "outputs": []
    },
    {
      "cell_type": "code",
      "source": [
        "items[2]"
      ],
      "metadata": {
        "colab": {
          "base_uri": "https://localhost:8080/",
          "height": 36
        },
        "id": "1ne-5mx3jvBZ",
        "outputId": "b4505e77-0664-422e-c5eb-28605541e28c"
      },
      "execution_count": 8,
      "outputs": [
        {
          "output_type": "execute_result",
          "data": {
            "text/plain": [
              "'mobile'"
            ],
            "application/vnd.google.colaboratory.intrinsic+json": {
              "type": "string"
            }
          },
          "metadata": {},
          "execution_count": 8
        }
      ]
    },
    {
      "cell_type": "code",
      "source": [
        "print(items[2])"
      ],
      "metadata": {
        "colab": {
          "base_uri": "https://localhost:8080/"
        },
        "id": "W39UKzBFjvNT",
        "outputId": "a35bf12f-5258-4f98-84da-b32fdcc77d26"
      },
      "execution_count": 9,
      "outputs": [
        {
          "output_type": "stream",
          "name": "stdout",
          "text": [
            "mobile\n"
          ]
        }
      ]
    },
    {
      "cell_type": "code",
      "source": [
        "items[-1]"
      ],
      "metadata": {
        "colab": {
          "base_uri": "https://localhost:8080/",
          "height": 36
        },
        "id": "YkkNTYMIk2s4",
        "outputId": "431f0c0e-d4e1-4c33-e10e-f6b6fb778410"
      },
      "execution_count": 11,
      "outputs": [
        {
          "output_type": "execute_result",
          "data": {
            "text/plain": [
              "'speaker'"
            ],
            "application/vnd.google.colaboratory.intrinsic+json": {
              "type": "string"
            }
          },
          "metadata": {},
          "execution_count": 11
        }
      ]
    },
    {
      "cell_type": "code",
      "source": [
        "items[0:3]"
      ],
      "metadata": {
        "colab": {
          "base_uri": "https://localhost:8080/"
        },
        "id": "GoujcM5nk8Pr",
        "outputId": "896fed69-2896-403e-f19f-71befbd80faa"
      },
      "execution_count": 12,
      "outputs": [
        {
          "output_type": "execute_result",
          "data": {
            "text/plain": [
              "['mic', 'lamp', 'mobile']"
            ]
          },
          "metadata": {},
          "execution_count": 12
        }
      ]
    },
    {
      "cell_type": "code",
      "source": [
        "items"
      ],
      "metadata": {
        "colab": {
          "base_uri": "https://localhost:8080/"
        },
        "id": "QxHSbJ8IlJli",
        "outputId": "d5a01eb3-20d7-4bfb-ce30-09ceb5ec061b"
      },
      "execution_count": 13,
      "outputs": [
        {
          "output_type": "execute_result",
          "data": {
            "text/plain": [
              "['mic', 'lamp', 'mobile', 'speaker']"
            ]
          },
          "metadata": {},
          "execution_count": 13
        }
      ]
    },
    {
      "cell_type": "code",
      "source": [
        "items[0:2]"
      ],
      "metadata": {
        "colab": {
          "base_uri": "https://localhost:8080/"
        },
        "id": "ZyPToUlelRWb",
        "outputId": "3f13b77c-d909-4f73-aad9-2f8db9391abe"
      },
      "execution_count": 14,
      "outputs": [
        {
          "output_type": "execute_result",
          "data": {
            "text/plain": [
              "['mic', 'lamp']"
            ]
          },
          "metadata": {},
          "execution_count": 14
        }
      ]
    },
    {
      "cell_type": "code",
      "source": [
        "items[2:]"
      ],
      "metadata": {
        "colab": {
          "base_uri": "https://localhost:8080/"
        },
        "id": "E2fQNE_YlXH5",
        "outputId": "66de7a6e-f04e-4692-872a-69d4cb280f22"
      },
      "execution_count": 15,
      "outputs": [
        {
          "output_type": "execute_result",
          "data": {
            "text/plain": [
              "['mobile', 'speaker']"
            ]
          },
          "metadata": {},
          "execution_count": 15
        }
      ]
    },
    {
      "cell_type": "code",
      "source": [
        "items[:2]"
      ],
      "metadata": {
        "colab": {
          "base_uri": "https://localhost:8080/"
        },
        "id": "ik-JPGSrlchE",
        "outputId": "c02e8e13-25e4-437c-b0d3-a07081c49b18"
      },
      "execution_count": 16,
      "outputs": [
        {
          "output_type": "execute_result",
          "data": {
            "text/plain": [
              "['mic', 'lamp']"
            ]
          },
          "metadata": {},
          "execution_count": 16
        }
      ]
    },
    {
      "cell_type": "code",
      "source": [
        "items[3]=\"pc\""
      ],
      "metadata": {
        "id": "dtr4i2wglo8H"
      },
      "execution_count": 18,
      "outputs": []
    },
    {
      "cell_type": "code",
      "source": [
        "items"
      ],
      "metadata": {
        "colab": {
          "base_uri": "https://localhost:8080/"
        },
        "id": "MQLQpDnVl302",
        "outputId": "96e49522-a032-419c-c349-4cd6d690c968"
      },
      "execution_count": 19,
      "outputs": [
        {
          "output_type": "execute_result",
          "data": {
            "text/plain": [
              "['mic', 'lamp', 'mobile', 'pc']"
            ]
          },
          "metadata": {},
          "execution_count": 19
        }
      ]
    },
    {
      "cell_type": "code",
      "source": [
        "items.append(\"camera\")"
      ],
      "metadata": {
        "id": "UCHSUy3sl_bI"
      },
      "execution_count": 20,
      "outputs": []
    },
    {
      "cell_type": "code",
      "source": [
        "items"
      ],
      "metadata": {
        "colab": {
          "base_uri": "https://localhost:8080/"
        },
        "id": "WnqgGsanmPWO",
        "outputId": "900e6705-8e0f-4a5e-dc69-65e00660cab5"
      },
      "execution_count": 21,
      "outputs": [
        {
          "output_type": "execute_result",
          "data": {
            "text/plain": [
              "['mic', 'lamp', 'mobile', 'pc', 'camera']"
            ]
          },
          "metadata": {},
          "execution_count": 21
        }
      ]
    },
    {
      "cell_type": "code",
      "source": [
        "items.remove(\"camera\")"
      ],
      "metadata": {
        "id": "gxRasD5omQ9z"
      },
      "execution_count": 22,
      "outputs": []
    },
    {
      "cell_type": "code",
      "source": [
        "items"
      ],
      "metadata": {
        "colab": {
          "base_uri": "https://localhost:8080/"
        },
        "id": "FEGkA4EdmY70",
        "outputId": "d8104e11-7b58-498a-da44-574bb25a0ced"
      },
      "execution_count": 23,
      "outputs": [
        {
          "output_type": "execute_result",
          "data": {
            "text/plain": [
              "['mic', 'lamp', 'mobile', 'pc']"
            ]
          },
          "metadata": {},
          "execution_count": 23
        }
      ]
    },
    {
      "cell_type": "code",
      "source": [
        "print(\"earbuds\" in items)"
      ],
      "metadata": {
        "colab": {
          "base_uri": "https://localhost:8080/"
        },
        "id": "S6nfYibXmbDA",
        "outputId": "e88bce44-d2bd-4811-f415-8da7f2fceec2"
      },
      "execution_count": 24,
      "outputs": [
        {
          "output_type": "stream",
          "name": "stdout",
          "text": [
            "False\n"
          ]
        }
      ]
    },
    {
      "cell_type": "code",
      "source": [
        "len(items)"
      ],
      "metadata": {
        "colab": {
          "base_uri": "https://localhost:8080/"
        },
        "id": "Y-AzVgt2mziM",
        "outputId": "71ee1f08-bcfa-4550-dbf3-263fb71e75a7"
      },
      "execution_count": 25,
      "outputs": [
        {
          "output_type": "execute_result",
          "data": {
            "text/plain": [
              "4"
            ]
          },
          "metadata": {},
          "execution_count": 25
        }
      ]
    },
    {
      "cell_type": "code",
      "source": [
        "scores =[70,80,90,50]"
      ],
      "metadata": {
        "id": "0yVa2o2_m2mY"
      },
      "execution_count": 26,
      "outputs": []
    },
    {
      "cell_type": "code",
      "source": [
        "for i in scores:\n",
        "  print(i/2)"
      ],
      "metadata": {
        "colab": {
          "base_uri": "https://localhost:8080/"
        },
        "id": "smjKv6adnFlA",
        "outputId": "526d73c8-3aba-443e-9aa4-3841a198c49c"
      },
      "execution_count": 27,
      "outputs": [
        {
          "output_type": "stream",
          "name": "stdout",
          "text": [
            "35.0\n",
            "40.0\n",
            "45.0\n",
            "25.0\n"
          ]
        }
      ]
    },
    {
      "cell_type": "code",
      "source": [
        "[ i/2 for i in scores]"
      ],
      "metadata": {
        "colab": {
          "base_uri": "https://localhost:8080/"
        },
        "id": "RsglGsY9nS6k",
        "outputId": "cc9fa251-10ea-431a-c382-c9992cfbe3ff"
      },
      "execution_count": 28,
      "outputs": [
        {
          "output_type": "execute_result",
          "data": {
            "text/plain": [
              "[35.0, 40.0, 45.0, 25.0]"
            ]
          },
          "metadata": {},
          "execution_count": 28
        }
      ]
    },
    {
      "cell_type": "code",
      "source": [
        "x=5\n",
        "y=3\n",
        "print(x+y*2)"
      ],
      "metadata": {
        "colab": {
          "base_uri": "https://localhost:8080/"
        },
        "id": "ec0BB1cZndBO",
        "outputId": "8ed9b2c6-7dc1-473b-cf64-75d94b5582f5"
      },
      "execution_count": 29,
      "outputs": [
        {
          "output_type": "stream",
          "name": "stdout",
          "text": [
            "11\n"
          ]
        }
      ]
    },
    {
      "cell_type": "code",
      "source": [],
      "metadata": {
        "id": "bPId_-F3oNaS"
      },
      "execution_count": null,
      "outputs": []
    },
    {
      "cell_type": "code",
      "metadata": {
        "colab": {
          "base_uri": "https://localhost:8080/"
        },
        "id": "a197c5a2",
        "outputId": "f41fc7f7-6411-4657-bb3b-01a120520038"
      },
      "source": [
        "my_list = [1, 2, 3]\n",
        "my_list.append(4)\n",
        "print(my_list)"
      ],
      "execution_count": 30,
      "outputs": [
        {
          "output_type": "stream",
          "name": "stdout",
          "text": [
            "[1, 2, 3, 4]\n"
          ]
        }
      ]
    }
  ]
}